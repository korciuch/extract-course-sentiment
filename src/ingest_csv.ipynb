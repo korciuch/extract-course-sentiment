{
 "cells": [
  {
   "cell_type": "code",
   "execution_count": 1,
   "metadata": {},
   "outputs": [],
   "source": [
    "from algorithms.statics import *\n",
    "from algorithms.pkgs import MongoClient, csv\n",
    "seen_id_pairs = set()\n",
    "client = MongoClient(DB_CONNECTION)"
   ]
  },
  {
   "cell_type": "code",
   "execution_count": 3,
   "metadata": {},
   "outputs": [],
   "source": [
    "def ingest(src_file):\n",
    "    client.course_evals.entries.drop()\n",
    "    with open(src_file,encoding='latin-1') as csvfile:\n",
    "        reader = csv.reader(csvfile,delimiter=',')\n",
    "        row_num = 0\n",
    "        for r in reader:\n",
    "            row_num += 1\n",
    "            if row_num == 1: continue\n",
    "            entry = {key : r[index] for index,key in enumerate(HEADER_ROW) if key in RELEVANT_ROWS}\n",
    "            tokens = entry[\"RESPONSE_TEXT\"].split()\n",
    "            id_pair = tuple((entry['RESPONSE_UNIQUE_ID'],entry['QUESTION_ID'])) # de-duplication\n",
    "            if len(tokens) > 1 and id_pair not in seen_id_pairs:\n",
    "                print(row_num)\n",
    "                seen_id_pairs.add(id_pair)\n",
    "                client.course_evals.entries.insert_one(entry)"
   ]
  },
  {
   "cell_type": "code",
   "execution_count": null,
   "metadata": {},
   "outputs": [],
   "source": [
    "ingest(src_file='../res/course-evals.csv')"
   ]
  }
 ],
 "metadata": {
  "interpreter": {
   "hash": "e26b637a11847d2e70dc04358940328c2300e72eb7b7e7497ac9f2ea30305527"
  },
  "kernelspec": {
   "display_name": "Python 3.8.5 64-bit ('nlp-proj': conda)",
   "language": "python",
   "name": "python3"
  },
  "language_info": {
   "codemirror_mode": {
    "name": "ipython",
    "version": 3
   },
   "file_extension": ".py",
   "mimetype": "text/x-python",
   "name": "python",
   "nbconvert_exporter": "python",
   "pygments_lexer": "ipython3",
   "version": "3.8.12"
  },
  "orig_nbformat": 4
 },
 "nbformat": 4,
 "nbformat_minor": 2
}
