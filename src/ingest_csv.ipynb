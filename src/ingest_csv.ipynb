{
 "cells": [
  {
   "cell_type": "code",
   "execution_count": 1,
   "metadata": {},
   "outputs": [],
   "source": [
    "import csv\n",
    "from pymongo import MongoClient\n",
    "DB_CONNECTION = 'mongodb://localhost:27017'"
   ]
  },
  {
   "cell_type": "code",
   "execution_count": 2,
   "metadata": {},
   "outputs": [],
   "source": [
    "HEADER_ROW = [\"PS_TERM_ID\",\"INSTRUCTOR_NAME\",\"COURSE_UNIQUE_ID\",\n",
    "          \"RESPONSE_UNIQUE_ID\",\"QUESTION_ID\",\"RESPONSE_TEXT\",\n",
    "          \"RESPONSE_NUM\",\"INSTRUCTOR_ENROLLMENTS\",\"STUDENT_ENROLLMENTS\",\n",
    "          \"STUDENT_RESPONDENTS\",\"COURSE_RESPONSE_RATE\",\"OPTOUTS\",\n",
    "          \"OPTOUT_RATE\",\"RESPONDENTS_COMPLETE\",\"RESPONDENTS_COMPLETE_RATE\",\n",
    "          \"COURSE_TITLE\",\"PS_COURSE_ID\",\"PS_CLASS_ID\",\"PS_COMBINED_SECTION_ID\",\n",
    "          \"CLASS_TYPE\",\"CLASS_LEVEL\",\"DEPT_CODE\",\"SCHOOL_CODE\",\"SCHOOL_NAME\",\n",
    "          \"DEPT_NAME\",\"CLASS_LOCATION\",\"INSTRUCTION_MODE\",\"QUESTION_TEXT\",\n",
    "          \"ANSWER_SET_TEXT\",\"ANSWER_SET_NUM\"]"
   ]
  },
  {
   "cell_type": "code",
   "execution_count": null,
   "metadata": {},
   "outputs": [],
   "source": [
    "with open('./res/') as csvfile:\n",
    "    reader = csv.reader(csvfile,delimiter=',')\n",
    "    client = MongoClient(DB_CONNECTION)\n",
    "    for r in reader:\n",
    "        entry = {key:r[index] for index,key in enumerate(HEADER_ROW)}\n",
    "        client.course_evals.entries.insert_one(entry)"
   ]
  }
 ],
 "metadata": {
  "interpreter": {
   "hash": "e26b637a11847d2e70dc04358940328c2300e72eb7b7e7497ac9f2ea30305527"
  },
  "kernelspec": {
   "display_name": "Python 3.8.5 64-bit ('nlp-proj': conda)",
   "language": "python",
   "name": "python3"
  },
  "language_info": {
   "codemirror_mode": {
    "name": "ipython",
    "version": 3
   },
   "file_extension": ".py",
   "mimetype": "text/x-python",
   "name": "python",
   "nbconvert_exporter": "python",
   "pygments_lexer": "ipython3",
   "version": "3.8.12"
  },
  "orig_nbformat": 4
 },
 "nbformat": 4,
 "nbformat_minor": 2
}
