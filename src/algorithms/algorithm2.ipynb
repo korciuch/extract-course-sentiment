{
 "cells": [
  {
   "cell_type": "markdown",
   "metadata": {},
   "source": [
    "### Algorithm 2\n",
    "Create Mapping of Algo1's output to corresponding adjectives, adverbs, etc."
   ]
  },
  {
   "cell_type": "code",
   "execution_count": 2,
   "metadata": {},
   "outputs": [],
   "source": [
    "from statics import *\n",
    "from pkgs import MongoClient, CoreNLPDependencyParser, nltk, re, defaultdict, stopwords\n",
    "client = MongoClient(DB_CONNECTION)\n",
    "dep_parser = CoreNLPDependencyParser(url=SERVER_URL)\n",
    "negatives = list(stopwords.words())[1509:1644] # SLICE ENGLISH STOPWORDS ONLY\n"
   ]
  },
  {
   "cell_type": "code",
   "execution_count": 3,
   "metadata": {},
   "outputs": [
    {
     "name": "stdout",
     "output_type": "stream",
     "text": [
      "W21-SURG-241-01/W21-ARTSTUDI-139-01 [['anatomy', 5], ['class', 5], ['classes', 4], ['drawing', 3], ['teacher', 3], ['muscles', 2], ['techniques', 2]]\n",
      "W21-COMPMED-200-01 [['presentation', 2], ['professor', 2], ['questions', 2], ['skills', 1], ['answer', 1], ['club', 1], ['journal', 1], ['practice', 1]]\n",
      "W21-CHPR-200-01 [['research', 9], ['guest', 4], ['prevention', 4], ['class', 3], ['work', 3], ['speakers', 2]]\n",
      "W21-NENS-204-01 [['neurologist', 1], ['strokes', 1], ['topics', 1]]\n",
      "W21-ORTHO-270-01 [['engineering', 2], ['research', 2], ['tissue', 2], ['advances', 1], ['cell', 1], ['stem', 1], ['class', 1], ['introduction', 1], ['unit', 1]]\n"
     ]
    }
   ],
   "source": [
    "for entry in client.course_evals.derivatives.ngrams.filtered.find()[:5]:\n",
    "    print(entry['course_id'],sorted(entry['filtered_ngrams'],key=lambda v:v[1],reverse=True)[:10])"
   ]
  },
  {
   "cell_type": "code",
   "execution_count": 4,
   "metadata": {},
   "outputs": [],
   "source": [
    "def extract_nearby_qualitative_features(text, target):\n",
    "    sent_tokenize = nltk.sent_tokenize(text)\n",
    "    for s in sent_tokenize:\n",
    "        pattern = re.compile('[^a-zA-z\\s,.;:\\']+', re.UNICODE)\n",
    "        tmp = re.sub(pattern, ' ', s)\n",
    "        tmp = re.sub('\\s+', ' ', tmp).lower()\n",
    "        if re.findall(target, tmp):\n",
    "            yield list(dep_parser.parse(tmp.split()))[0]\n",
    "    else: return []"
   ]
  },
  {
   "cell_type": "code",
   "execution_count": 7,
   "metadata": {},
   "outputs": [],
   "source": [
    "#INSTRUCTOR NAMES\n",
    "sub_names = set()\n",
    "for entry in client.course_evals.entries.find():\n",
    "    for sub_name in entry['INSTRUCTOR_NAME'].split(', '):\n",
    "        if sub_name.lower() not in negatives:\n",
    "            sub_names.add(sub_name.lower())\n",
    "negatives.extend(list(sub_names))"
   ]
  },
  {
   "cell_type": "markdown",
   "metadata": {},
   "source": [
    "### Algorithm 2"
   ]
  },
  {
   "cell_type": "code",
   "execution_count": 6,
   "metadata": {},
   "outputs": [
    {
     "name": "stdout",
     "output_type": "stream",
     "text": [
      "W21-SURG-241-01/W21-ARTSTUDI-139-01\n",
      "W21-COMPMED-200-01\n",
      "W21-CHPR-200-01\n",
      "W21-NENS-204-01\n",
      "W21-ORTHO-270-01\n"
     ]
    }
   ],
   "source": [
    "dep_grphs = defaultdict(lambda:defaultdict(list))\n",
    "for row in client.course_evals.derivatives.ngrams.filtered.find()[:5]:\n",
    "    print(row['course_id'])\n",
    "    for top_feature in row['filtered_ngrams']:\n",
    "        for entry in client.course_evals.entries.find({'COURSE_UNIQUE_ID':row['course_id']}):\n",
    "            res = list(extract_nearby_qualitative_features(entry['RESPONSE_TEXT'],top_feature[0]))\n",
    "            if len(res) > 0:\n",
    "                dep_grphs[row['course_id']][top_feature[0]].extend(list(res))"
   ]
  },
  {
   "cell_type": "code",
   "execution_count": 8,
   "metadata": {},
   "outputs": [],
   "source": [
    "related_words = defaultdict(lambda:defaultdict(list))\n",
    "MAX_DEPTH = 2\n",
    "def traverse_and_collect(addr,grph,depth,visited,target_class,target_feature):\n",
    "    if depth == MAX_DEPTH: \n",
    "        return\n",
    "    else:\n",
    "        # ANCESTORS\n",
    "        curr_word = grph.nodes[grph.nodes[addr]['head']]['word']\n",
    "        if curr_word != target_feature and grph.nodes[addr]['head'] not in visited:\n",
    "            if curr_word: related_words[target_class][target_feature].append((curr_word,depth))\n",
    "            traverse_and_collect(grph.nodes[addr]['head'],grph,depth+1,visited+[addr],target_class,target_feature)\n",
    "        # DESCENDANTS\n",
    "        for _,addrs in grph.nodes[addr]['deps'].items():\n",
    "            for a in addrs:\n",
    "                dep_word = grph.nodes[a]['word']\n",
    "                if dep_word not in negatives and grph.nodes[a]['rel'] != 'punct' and a not in visited:\n",
    "                    if dep_word: related_words[target_class][target_feature].append((dep_word,depth))\n",
    "                    traverse_and_collect(a,grph,depth+1,visited+[addr],target_class,target_feature)\n",
    "\n",
    "for row in client.course_evals.derivatives.ngrams.filtered.find():\n",
    "    for feature in dep_grphs[row['course_id']].keys():\n",
    "        for grph in list(dep_grphs[row['course_id']][feature]):\n",
    "            for n in list(grph.nodes):\n",
    "                if grph.nodes[n]['word'] == feature:\n",
    "                    traverse_and_collect(grph.nodes[n]['address'],grph,depth=0,visited=[],target_class=row['course_id'],target_feature=feature)"
   ]
  },
  {
   "cell_type": "code",
   "execution_count": 10,
   "metadata": {},
   "outputs": [
    {
     "data": {
      "text/plain": [
       "defaultdict(list,\n",
       "            {'anatomy': [('facial', 0),\n",
       "              ('muscles', 0),\n",
       "              ('structure', 0),\n",
       "              ('skeletal', 1),\n",
       "              ('drawing', 0),\n",
       "              ('techniques', 1),\n",
       "              ('significant', 0),\n",
       "              ('something', 1),\n",
       "              ('learned', 0),\n",
       "              ('underlying', 0),\n",
       "              ('face', 0),\n",
       "              ('neck', 1),\n",
       "              ('learned', 0),\n",
       "              ('area', 1),\n",
       "              ('facial', 0),\n",
       "              ('understand', 0),\n",
       "              ('really', 1),\n",
       "              ('easier', 1)],\n",
       "             'class': [('flexible', 0),\n",
       "              ('teacher', 1),\n",
       "              ('extremely', 1),\n",
       "              ('supportive', 1),\n",
       "              ('enjoy', 0),\n",
       "              ('learn', 1),\n",
       "              ('immensely', 1),\n",
       "              ('recommend', 0),\n",
       "              ('really', 1),\n",
       "              ('setting', 0),\n",
       "              ('learn', 1),\n",
       "              ('engaging', 1),\n",
       "              ('engaging', 0),\n",
       "              ('makes', 1),\n",
       "              ('extremely', 1)],\n",
       "             'classes': [('take', 0),\n",
       "              ('easy', 1),\n",
       "              ('beginner', 1),\n",
       "              ('learn', 1),\n",
       "              ('all', 0),\n",
       "              ('take', 1),\n",
       "              ('all', 0),\n",
       "              ('take', 1),\n",
       "              ('projects', 0),\n",
       "              ('highlights', 1),\n",
       "              ('honestly', 1)],\n",
       "             'drawing': [('anatomy', 0),\n",
       "              ('facial', 1),\n",
       "              ('muscles', 1),\n",
       "              ('structure', 1),\n",
       "              ('techniques', 0),\n",
       "              ('skulls', 1),\n",
       "              ('terms', 0),\n",
       "              ('learned', 1),\n",
       "              ('anatomical', 1),\n",
       "              ('etc.', 1),\n",
       "              ('shading', 0),\n",
       "              ('techniques', 0),\n",
       "              ('improving', 0),\n",
       "              ('work', 1)],\n",
       "             'teacher': [('amazing', 0),\n",
       "              ('flexible', 0),\n",
       "              ('extremely', 1),\n",
       "              ('supportive', 1),\n",
       "              ('class', 1),\n",
       "              ('best', 0),\n",
       "              ('art', 0),\n",
       "              ('great', 0)],\n",
       "             'muscles': [('anatomy', 0),\n",
       "              ('facial', 1),\n",
       "              ('structure', 1),\n",
       "              ('drawing', 1),\n",
       "              ('bones', 0),\n",
       "              ('lot', 1),\n",
       "              ('facial', 1)],\n",
       "             'techniques': [('drawing', 0),\n",
       "              ('anatomy', 1),\n",
       "              ('skulls', 0),\n",
       "              ('drawing', 0),\n",
       "              ('terms', 1),\n",
       "              ('shading', 1)]})"
      ]
     },
     "execution_count": 10,
     "metadata": {},
     "output_type": "execute_result"
    }
   ],
   "source": [
    "related_words['W21-SURG-241-01/W21-ARTSTUDI-139-01']"
   ]
  },
  {
   "cell_type": "markdown",
   "metadata": {},
   "source": [
    "### Save to DB"
   ]
  },
  {
   "cell_type": "code",
   "execution_count": 38,
   "metadata": {},
   "outputs": [],
   "source": [
    "client.course_evals.derivatives.adjacent4.drop()\n",
    "for key in related_words.keys():\n",
    "    document = {\n",
    "        'course_id': key,\n",
    "        'feature_to_linkages': related_words[key]\n",
    "    }\n",
    "    client.course_evals.derivatives.adjacent4.insert_one(document)"
   ]
  }
 ],
 "metadata": {
  "interpreter": {
   "hash": "e26b637a11847d2e70dc04358940328c2300e72eb7b7e7497ac9f2ea30305527"
  },
  "kernelspec": {
   "display_name": "Python 3.8.12 64-bit ('nlp-proj': conda)",
   "language": "python",
   "name": "python3"
  },
  "language_info": {
   "codemirror_mode": {
    "name": "ipython",
    "version": 3
   },
   "file_extension": ".py",
   "mimetype": "text/x-python",
   "name": "python",
   "nbconvert_exporter": "python",
   "pygments_lexer": "ipython3",
   "version": "3.8.12"
  },
  "orig_nbformat": 4
 },
 "nbformat": 4,
 "nbformat_minor": 2
}
