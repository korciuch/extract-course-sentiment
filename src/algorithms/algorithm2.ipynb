{
 "cells": [
  {
   "cell_type": "markdown",
   "metadata": {},
   "source": [
    "### Algorithm 2\n",
    "Create Mapping of Algo1's output to corresponding adjectives, adverbs, etc."
   ]
  },
  {
   "cell_type": "code",
   "execution_count": 2,
   "metadata": {},
   "outputs": [
    {
     "name": "stdout",
     "output_type": "stream",
     "text": [
      "/Users/admin/Documents/GitHub/extract-course-sentiment/src/algorithms\n"
     ]
    }
   ],
   "source": [
    "! pwd"
   ]
  },
  {
   "cell_type": "code",
   "execution_count": 3,
   "metadata": {},
   "outputs": [],
   "source": [
    "from statics import *\n",
    "from pkgs import MongoClient"
   ]
  }
 ],
 "metadata": {
  "interpreter": {
   "hash": "e26b637a11847d2e70dc04358940328c2300e72eb7b7e7497ac9f2ea30305527"
  },
  "kernelspec": {
   "display_name": "Python 3.8.12 64-bit ('nlp-proj': conda)",
   "language": "python",
   "name": "python3"
  },
  "language_info": {
   "codemirror_mode": {
    "name": "ipython",
    "version": 3
   },
   "file_extension": ".py",
   "mimetype": "text/x-python",
   "name": "python",
   "nbconvert_exporter": "python",
   "pygments_lexer": "ipython3",
   "version": "3.8.12"
  },
  "orig_nbformat": 4
 },
 "nbformat": 4,
 "nbformat_minor": 2
}
