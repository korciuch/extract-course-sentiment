{
 "cells": [
  {
   "cell_type": "markdown",
   "metadata": {},
   "source": [
    "### Algorithm 1\n",
    "Extract Nouns, Noun Phrases, etc. from Dependency Tree"
   ]
  },
  {
   "cell_type": "code",
   "execution_count": 2,
   "metadata": {},
   "outputs": [],
   "source": [
    "from statics import *\n",
    "from pkgs import MongoClient, CoreNLPParser, defaultdict, re\n",
    "client = MongoClient(DB_CONNECTION)\n",
    "parser = CoreNLPParser(url=SERVER_URL)\n",
    "MAX_FEATURES = 10"
   ]
  },
  {
   "cell_type": "code",
   "execution_count": null,
   "metadata": {},
   "outputs": [],
   "source": [
    "parsed = defaultdict(list)\n",
    "second_deg_unwanted_pos = set()\n",
    "unwanted_pos = ['ADVP', 'ADJP', 'INTJ', 'FRAG', 'S']\n",
    "second_deg_unwanted_pos.update(unwanted_pos)\n",
    "for entry in client.course_evals.derivatives.ngrams.find():\n",
    "    name = entry['course_id']\n",
    "    print(name)\n",
    "    top_features = sorted(entry['freq_to_gram_dict'].items(),key=lambda v:v[1],reverse=True)\n",
    "    for f in top_features[:MAX_FEATURES]:\n",
    "        parse = list(parser.parse(f[0].split()))\n",
    "        s = re.findall('Tree\\(([A-Z\\']+)', str(parse))\n",
    "        if s[1][1:-1] in second_deg_unwanted_pos: continue\n",
    "        else: parsed[name].append(f)"
   ]
  },
  {
   "cell_type": "markdown",
   "metadata": {},
   "source": [
    "### Save Features to DB"
   ]
  },
  {
   "cell_type": "code",
   "execution_count": 4,
   "metadata": {},
   "outputs": [],
   "source": [
    "client.course_evals.derivatives.ngrams.filtered.drop()\n",
    "for key in parsed.keys():\n",
    "    document = {\n",
    "        'course_id': key,\n",
    "        'filtered_ngrams': parsed[key]\n",
    "    }\n",
    "    client.course_evals.derivatives.ngrams.filtered.insert_one(document)"
   ]
  }
 ],
 "metadata": {
  "interpreter": {
   "hash": "e26b637a11847d2e70dc04358940328c2300e72eb7b7e7497ac9f2ea30305527"
  },
  "kernelspec": {
   "display_name": "Python 3.8.12 64-bit ('nlp-proj': conda)",
   "language": "python",
   "name": "python3"
  },
  "language_info": {
   "codemirror_mode": {
    "name": "ipython",
    "version": 3
   },
   "file_extension": ".py",
   "mimetype": "text/x-python",
   "name": "python",
   "nbconvert_exporter": "python",
   "pygments_lexer": "ipython3",
   "version": "3.8.12"
  },
  "orig_nbformat": 4
 },
 "nbformat": 4,
 "nbformat_minor": 2
}
