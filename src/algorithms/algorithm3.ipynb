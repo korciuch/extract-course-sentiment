{
 "cells": [
  {
   "cell_type": "markdown",
   "metadata": {},
   "source": [
    "### Algorithm 3\n",
    "For each feature i from Algo1, use Algo2\\[i\\] to calculate feature-level sentiment. "
   ]
  },
  {
   "cell_type": "code",
   "execution_count": 2,
   "metadata": {},
   "outputs": [
    {
     "name": "stdout",
     "output_type": "stream",
     "text": [
      "/Users/admin/Documents/GitHub/extract-course-sentiment/src/algorithms\n"
     ]
    }
   ],
   "source": [
    "! pwd"
   ]
  },
  {
   "cell_type": "code",
   "execution_count": 3,
   "metadata": {},
   "outputs": [],
   "source": [
    "from statics import *\n",
    "from pkgs import MongoClient, vader, defaultdict\n",
    "client = MongoClient(DB_CONNECTION)\n",
    "sia = vader.SentimentIntensityAnalyzer()"
   ]
  },
  {
   "cell_type": "code",
   "execution_count": 5,
   "metadata": {},
   "outputs": [
    {
     "data": {
      "text/plain": [
       "defaultdict(None,\n",
       "            {'class': {'neg': 0.0,\n",
       "              'neu': 0.865,\n",
       "              'pos': 0.135,\n",
       "              'compound': 0.3612},\n",
       "             'work': {'neg': 0.0,\n",
       "              'neu': 0.865,\n",
       "              'pos': 0.135,\n",
       "              'compound': 0.3612},\n",
       "             'professor': {'neg': 0.0,\n",
       "              'neu': 1.0,\n",
       "              'pos': 0.0,\n",
       "              'compound': 0.0},\n",
       "             'times': {'neg': 0.0, 'neu': 1.0, 'pos': 0.0, 'compound': 0.0},\n",
       "             'patient': {'neg': 0.0,\n",
       "              'neu': 0.469,\n",
       "              'pos': 0.531,\n",
       "              'compound': 0.5267},\n",
       "             'time': {'neg': 0.0,\n",
       "              'neu': 0.706,\n",
       "              'pos': 0.294,\n",
       "              'compound': 0.3612}})"
      ]
     },
     "execution_count": 5,
     "metadata": {},
     "output_type": "execute_result"
    }
   ],
   "source": [
    "result = defaultdict(lambda:defaultdict(None))\n",
    "for row in client.course_evals.derivatives.adjacent2.find():\n",
    "    for feature in row['feature_to_linkages'].keys():\n",
    "        combined = \" \".join([x[0] for x in row['feature_to_linkages'][feature]])\n",
    "        result[row['course_id']][feature] = sia.polarity_scores(combined)\n",
    "result[row['course_id']]"
   ]
  }
 ],
 "metadata": {
  "interpreter": {
   "hash": "e26b637a11847d2e70dc04358940328c2300e72eb7b7e7497ac9f2ea30305527"
  },
  "kernelspec": {
   "display_name": "Python 3.8.12 64-bit ('nlp-proj': conda)",
   "language": "python",
   "name": "python3"
  },
  "language_info": {
   "codemirror_mode": {
    "name": "ipython",
    "version": 3
   },
   "file_extension": ".py",
   "mimetype": "text/x-python",
   "name": "python",
   "nbconvert_exporter": "python",
   "pygments_lexer": "ipython3",
   "version": "3.8.12"
  },
  "orig_nbformat": 4
 },
 "nbformat": 4,
 "nbformat_minor": 2
}
