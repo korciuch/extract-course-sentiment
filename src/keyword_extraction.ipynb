{
 "cells": [
  {
   "cell_type": "code",
   "execution_count": 2,
   "metadata": {},
   "outputs": [],
   "source": [
    "from algorithms.statics import *\n",
    "from algorithms.pkgs import CountVectorizer, MongoClient, re\n",
    "client = MongoClient(DB_CONNECTION)\n",
    "sample_review = client.course_evals.entries.find_one()"
   ]
  },
  {
   "cell_type": "code",
   "execution_count": 3,
   "metadata": {},
   "outputs": [],
   "source": [
    "def tokenize(raw_text):\n",
    "    pattern = re.compile('[^a-zA-z\\s]+', re.UNICODE)\n",
    "    text = re.sub(pattern, ' ', raw_text)\n",
    "    text = re.sub('\\s+', ' ', text)\n",
    "    return text"
   ]
  },
  {
   "cell_type": "code",
   "execution_count": 5,
   "metadata": {},
   "outputs": [
    {
     "data": {
      "text/plain": [
       "['anatomy',\n",
       " 'anatomy muscles',\n",
       " 'drawing',\n",
       " 'drawing techniques',\n",
       " 'facial',\n",
       " 'facial anatomy',\n",
       " 'for',\n",
       " 'for skulls',\n",
       " 'muscles',\n",
       " 'muscles skeletal',\n",
       " 'skeletal',\n",
       " 'skeletal structure',\n",
       " 'skulls',\n",
       " 'structure',\n",
       " 'structure drawing',\n",
       " 'techniques',\n",
       " 'techniques for']"
      ]
     },
     "execution_count": 5,
     "metadata": {},
     "output_type": "execute_result"
    }
   ],
   "source": [
    "# EXAMPLE FOR ONE ENTRY\n",
    "vectorized = CountVectorizer(ngram_range=(N_GRAM_LOWER_LIM,N_GRAM_UPPER_LIM))\n",
    "example = tokenize(sample_review['RESPONSE_TEXT'])\n",
    "X = vectorized.fit_transform(raw_documents=[example])\n",
    "vectorized.get_feature_names()"
   ]
  },
  {
   "cell_type": "code",
   "execution_count": null,
   "metadata": {},
   "outputs": [],
   "source": [
    "for entry in client.course_evals.entries.find():\n",
    "    pass"
   ]
  }
 ],
 "metadata": {
  "interpreter": {
   "hash": "e26b637a11847d2e70dc04358940328c2300e72eb7b7e7497ac9f2ea30305527"
  },
  "kernelspec": {
   "display_name": "Python 3.8.12 64-bit ('nlp-proj': conda)",
   "language": "python",
   "name": "python3"
  },
  "language_info": {
   "codemirror_mode": {
    "name": "ipython",
    "version": 3
   },
   "file_extension": ".py",
   "mimetype": "text/x-python",
   "name": "python",
   "nbconvert_exporter": "python",
   "pygments_lexer": "ipython3",
   "version": "3.8.12"
  },
  "orig_nbformat": 4
 },
 "nbformat": 4,
 "nbformat_minor": 2
}
